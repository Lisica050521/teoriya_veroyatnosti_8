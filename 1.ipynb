{
 "cells": [
  {
   "attachments": {},
   "cell_type": "markdown",
   "metadata": {},
   "source": [
    "### Даны значения величины заработной платы заемщиков банка (zp) и значения их поведенческого кредитного скоринга (ks):\n",
    "\n",
    "zp = [35, 45, 190, 200, 40, 70, 54, 150, 120, 110],\n",
    "\n",
    "ks = [401, 574, 874, 919, 459, 739, 653, 902, 746, 832].\n",
    "\n",
    "Найдите ковариацию этих двух величин с помощью элементарных действий, а затем с помощью функции cov из numpy\n",
    "\n",
    "Полученные значения должны быть равны.\n",
    "\n",
    "Найдите коэффициент корреляции Пирсона с помощью ковариации и среднеквадратичных отклонений двух признаков, а затем с использованием функций из библиотек numpy и pandas."
   ]
  },
  {
   "cell_type": "code",
   "execution_count": 1,
   "metadata": {},
   "outputs": [
    {
     "name": "stdout",
     "output_type": "stream",
     "text": [
      "              Ковариация вручную = 9157.84\n",
      "\n",
      "              Ковариация с помощью функции = 9157.84\n",
      "\n",
      "              Коэффициент корреляции Пирсона вручную = 0.8874900920739158\n",
      "\n",
      "              Коэффициент корреляции с помощью функции = 0.8874900920739162\n"
     ]
    }
   ],
   "source": [
    "import numpy as np\n",
    "\n",
    "zp = np.array([35, 45, 190, 200, 40, 70, 54, 150, 120, 110])\n",
    "ks = np.array( [401, 574, 874, 919, 459, 739, 653, 902, 746, 832])\n",
    "\n",
    "\n",
    "def scoring(x, y):\n",
    "    covariation = np.mean(x * y) - (np.mean(x) * np.mean(y))\n",
    "    return f'              Ковариация вручную = {round(covariation, 2)}\\n\\n \\\n",
    "             Ковариация с помощью функции = {np.cov(x, y, ddof=0)[1][0]}\\n\\n \\\n",
    "             Коэффициент корреляции Пирсона вручную = {covariation / (np.std(x) * np.std(y))}\\n\\n \\\n",
    "             Коэффициент корреляции с помощью функции = {np.corrcoef(x, y)[1][0]}' \n",
    "           \n",
    "\n",
    "print(scoring(zp, ks))"
   ]
  }
 ],
 "metadata": {
  "kernelspec": {
   "display_name": "Python 3",
   "language": "python",
   "name": "python3"
  },
  "language_info": {
   "codemirror_mode": {
    "name": "ipython",
    "version": 3
   },
   "file_extension": ".py",
   "mimetype": "text/x-python",
   "name": "python",
   "nbconvert_exporter": "python",
   "pygments_lexer": "ipython3",
   "version": "3.11.1"
  },
  "orig_nbformat": 4
 },
 "nbformat": 4,
 "nbformat_minor": 2
}
